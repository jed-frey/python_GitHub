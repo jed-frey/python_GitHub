{
 "cells": [
  {
   "cell_type": "code",
   "execution_count": null,
   "metadata": {},
   "outputs": [],
   "source": [
    "from github import Github\n",
    "\n",
    "# First create a Github instance:\n",
    "\n",
    "# or using an access token\n",
    "with open('.access_token', 'r') as fid:\n",
    "    g = Github(fid.read())"
   ]
  },
  {
   "cell_type": "code",
   "execution_count": 11,
   "metadata": {},
   "outputs": [
    {
     "name": "stdout",
     "output_type": "stream",
     "text": [
      ".config False\n"
     ]
    }
   ],
   "source": [
    "# Then play with your Github objects:\n",
    "for repo in g.get_user().get_repos():\n",
    "    print(repo.name, repo.fork)\n",
    "    if not repo.fork:\n",
    "        break"
   ]
  },
  {
   "cell_type": "code",
   "execution_count": 12,
   "metadata": {},
   "outputs": [
    {
     "data": {
      "text/plain": [
       "'git@github.com:jed-frey/.config.git'"
      ]
     },
     "execution_count": 12,
     "metadata": {},
     "output_type": "execute_result"
    }
   ],
   "source": [
    "repo.ssh_url"
   ]
  },
  {
   "cell_type": "code",
   "execution_count": 6,
   "metadata": {},
   "outputs": [],
   "source": [
    "import subprocess"
   ]
  },
  {
   "cell_type": "code",
   "execution_count": 7,
   "metadata": {},
   "outputs": [],
   "source": [
    "def git(*args):\n",
    "    return subprocess.check_output([\"git\", *args])"
   ]
  },
  {
   "cell_type": "code",
   "execution_count": 13,
   "metadata": {},
   "outputs": [
    {
     "data": {
      "text/plain": [
       "b''"
      ]
     },
     "execution_count": 13,
     "metadata": {},
     "output_type": "execute_result"
    }
   ],
   "source": [
    "git(\"clone\", repo.ssh_url)"
   ]
  },
  {
   "cell_type": "code",
   "execution_count": 14,
   "metadata": {},
   "outputs": [],
   "source": [
    "import os"
   ]
  },
  {
   "cell_type": "code",
   "execution_count": 15,
   "metadata": {},
   "outputs": [],
   "source": [
    "os.chdir(\".config\")"
   ]
  },
  {
   "cell_type": "code",
   "execution_count": 16,
   "metadata": {},
   "outputs": [
    {
     "data": {
      "text/plain": [
       "b\"On branch master\\nYour branch is up to date with 'origin/master'.\\n\\nnothing to commit, working tree clean\\n\""
      ]
     },
     "execution_count": 16,
     "metadata": {},
     "output_type": "execute_result"
    }
   ],
   "source": [
    "git(\"status\")"
   ]
  },
  {
   "cell_type": "code",
   "execution_count": 17,
   "metadata": {},
   "outputs": [],
   "source": [
    "license = \"\"\"BSD 3-Clause License\n",
    "\n",
    "Copyright (c) 2017, Jed Frey\n",
    "All rights reserved.\n",
    "\n",
    "Redistribution and use in source and binary forms, with or without\n",
    "modification, are permitted provided that the following conditions are met:\n",
    "\n",
    "* Redistributions of source code must retain the above copyright notice, this\n",
    "  list of conditions and the following disclaimer.\n",
    "\n",
    "* Redistributions in binary form must reproduce the above copyright notice,\n",
    "  this list of conditions and the following disclaimer in the documentation\n",
    "  and/or other materials provided with the distribution.\n",
    "\n",
    "* Neither the name of the copyright holder nor the names of its\n",
    "  contributors may be used to endorse or promote products derived from\n",
    "  this software without specific prior written permission.\n",
    "\n",
    "THIS SOFTWARE IS PROVIDED BY THE COPYRIGHT HOLDERS AND CONTRIBUTORS \"AS IS\"\n",
    "AND ANY EXPRESS OR IMPLIED WARRANTIES, INCLUDING, BUT NOT LIMITED TO, THE\n",
    "IMPLIED WARRANTIES OF MERCHANTABILITY AND FITNESS FOR A PARTICULAR PURPOSE ARE\n",
    "DISCLAIMED. IN NO EVENT SHALL THE COPYRIGHT HOLDER OR CONTRIBUTORS BE LIABLE\n",
    "FOR ANY DIRECT, INDIRECT, INCIDENTAL, SPECIAL, EXEMPLARY, OR CONSEQUENTIAL\n",
    "DAMAGES (INCLUDING, BUT NOT LIMITED TO, PROCUREMENT OF SUBSTITUTE GOODS OR\n",
    "SERVICES; LOSS OF USE, DATA, OR PROFITS; OR BUSINESS INTERRUPTION) HOWEVER\n",
    "CAUSED AND ON ANY THEORY OF LIABILITY, WHETHER IN CONTRACT, STRICT LIABILITY,\n",
    "OR TORT (INCLUDING NEGLIGENCE OR OTHERWISE) ARISING IN ANY WAY OUT OF THE USE\n",
    "OF THIS SOFTWARE, EVEN IF ADVISED OF THE POSSIBILITY OF SUCH DAMAGE.\"\"\""
   ]
  },
  {
   "cell_type": "code",
   "execution_count": 18,
   "metadata": {},
   "outputs": [],
   "source": [
    "with open(\"LICENSE\", \"w\") as fid:\n",
    "    fid.write(license)"
   ]
  },
  {
   "cell_type": "code",
   "execution_count": 20,
   "metadata": {},
   "outputs": [
    {
     "data": {
      "text/plain": [
       "b'[master ee7aaef] Updated LICENSE to BSD 3\\n 1 file changed, 6 insertions(+), 2 deletions(-)\\n'"
      ]
     },
     "execution_count": 20,
     "metadata": {},
     "output_type": "execute_result"
    }
   ],
   "source": [
    "git(\"commit\", \"-am\", \"Updated LICENSE to BSD 3\")"
   ]
  },
  {
   "cell_type": "code",
   "execution_count": 21,
   "metadata": {},
   "outputs": [
    {
     "data": {
      "text/plain": [
       "b''"
      ]
     },
     "execution_count": 21,
     "metadata": {},
     "output_type": "execute_result"
    }
   ],
   "source": [
    "git(\"push\")"
   ]
  },
  {
   "cell_type": "code",
   "execution_count": 22,
   "metadata": {},
   "outputs": [],
   "source": [
    "os.chdir(\"..\")"
   ]
  },
  {
   "cell_type": "code",
   "execution_count": 24,
   "metadata": {},
   "outputs": [],
   "source": [
    "root_dir = os.path.abspath(os.curdir)"
   ]
  },
  {
   "cell_type": "code",
   "execution_count": 44,
   "metadata": {},
   "outputs": [],
   "source": [
    "def update_license(repo):\n",
    "    if os.path.exists(repo.name):\n",
    "        shutil.rmtree(repo.name)\n",
    "    git(\"clone\", repo.ssh_url, repo.name)\n",
    "    os.chdir(repo.name)\n",
    "    lic_file = \"LICENSE\"\n",
    "    with open(lic_file, \"w\") as fid:\n",
    "        fid.write(license)\n",
    "    try:\n",
    "        git(\"commit\", \"-am\", \"Updated LICENSE to BSD 3\")\n",
    "        git(\"push\")\n",
    "    except:\n",
    "        pass\n",
    "    os.chdir(root_dir)\n",
    "    shutil.rmtree(repo.name)"
   ]
  },
  {
   "cell_type": "code",
   "execution_count": 45,
   "metadata": {},
   "outputs": [],
   "source": [
    "os.chdir(root_dir)"
   ]
  },
  {
   "cell_type": "code",
   "execution_count": 46,
   "metadata": {},
   "outputs": [
    {
     "name": "stdout",
     "output_type": "stream",
     "text": [
      "18.04_Staging False\n",
      "3D_Prints False\n",
      "Adobe-Photoshop-Scripts False\n",
      "Arduino False\n",
      "ArduinoCI False\n",
      "ArduinoMultiShield False\n",
      "Arduino_Boards True\n",
      "ARMCM4-STM32F407-STF4BB-FATFS False\n",
      "asammdf True\n",
      "asammdf_tools False\n",
      "autohotkeys False\n",
      "bitcoin True\n",
      "BlockchainCYA False\n",
      "bootstrap_asammdf False\n",
      "bootstrap_MinGW False\n",
      "bootstrap_WinPython False\n",
      "bot_01 False\n",
      "build_MarlinFW False\n",
      "caffe True\n",
      "Calibrations_As_Code False\n",
      "ChibiOS True\n",
      "ChibiOS_SimulinkBlockset False\n",
      "ChibiOS_STM32F4Disc_Console False\n",
      "CNC3018 False\n",
      "CoiniumServ True\n",
      "cookiecutter-flask True\n",
      "cookiecutter-pylibrary True\n",
      "cookiecutter-pypackage True\n",
      "Creality-CR-10 False\n",
      "DEVKIT-Makefile False\n",
      "DIGITS True\n",
      "dogecoin True\n",
      "dogecoin-python True\n",
      "doorstop True\n",
      "dreamhost-dyndns True\n",
      "dreampy_dns True\n",
      "dSpace_pytest False\n",
      "e200-gcc False\n",
      "elasticmdf False\n",
      "electrum True\n",
      "ElfGrinder False\n",
      "Facebook-PHP-Batch-Picture-Uploader False\n",
      "freebsd-ports True\n",
      "FreeNAS-devops False\n",
      "FreeNAS-Gitlab False\n",
      "FreeNAS-Gogs False\n",
      "freertos_mpc57xx False\n",
      "GarlicRecipes True\n",
      "GenesisH0 True\n",
      "get_files False\n",
      "Ginko_USB-CAN_Interface False\n",
      "gpsd-py3 True\n",
      "hacking_VerneeActive False\n",
      "InkscapeLaserGCode False\n",
      "iocage-ix-plugins True\n",
      "iocage-plugin-gitea True\n",
      "jed-frey.github.io False\n",
      "jenkins.io True\n",
      "JenkinsMatlab False\n",
      "jenkins_warnings False\n",
      "KISS-PHP-Gallery False\n",
      "klipper True\n",
      "libFTDI-Super4-Relay-Control False\n",
      "lib_DEVKITMPC5744P False\n",
      "LinuxHDRPanoScripts False\n",
      "Marlin True\n",
      "matlab-mhs5200 False\n",
      "matlab_Benchmarks False\n",
      "matlab_canape False\n",
      "matlab_elasticsearch False\n",
      "matlab_filelist False\n",
      "matlab_getPosition False\n",
      "matlab_gitextensions False\n",
      "matlab_junit_xml False\n",
      "matlab_mapmaker False\n",
      "matlab_mfiletemplate False\n",
      "matlab_mflakes False\n",
      "matlab_mim False\n",
      "matlab_ModelAdvisor_Jenkins False\n",
      "matlab_N-bar False\n",
      "matlab_projecttools False\n",
      "matlab_pushover False\n",
      "matlab_python False\n",
      "matlab_saveppt2 False\n",
      "mdfreader True\n",
      "ME572-Robotic-Manipulators False\n",
      "mlshim False\n",
      "MPC5748Gode False\n",
      "multichain True\n",
      "NeuralNetWork False\n",
      "nxp_mbdtoolbox False\n",
      "open-zwave-control-panel True\n",
      "OpenCalibrationManager False\n",
      "openscad False\n",
      "openscad_DEVKIT-MPC57xx False\n",
      "opensda_flasher False\n",
      "PBS_Kids False\n",
      "pkgWinPython False\n",
      "py-mlshim False\n",
      "PyCANape False\n",
      "PyCretaAPI False\n",
      "PyDAT False\n",
      "PyLTIGUI False\n",
      "PyPass False\n",
      "PyQt5Scratch False\n",
      "pySimulink False\n",
      "pytest-jupyter-notebooks False\n",
      "pytest-m-comments False\n",
      "pytest-m-data False\n",
      "python-control True\n",
      "python_AVL_CRETA_API False\n",
      "python_ClearCase False\n",
      "python_ds1000de False\n",
      "python_gsend False\n",
      "python_HC06 False\n",
      "python_jetty False\n",
      "python_mhs5200 True\n",
      "python_sigrok2 False\n",
      "python_SimulinkDLL False\n",
      "python_SystemID False\n",
      "python_usenet False\n",
      "py_jenkins False\n",
      "Requirements_As_Code False\n",
      "requirements_sandbox False\n",
      "RS274 False\n",
      "rtplib3 False\n",
      "scipy True\n",
      "sigal True\n",
      "SimulinkModelAdvisor_unittest False\n",
      "simulink_BetterPortOrder False\n",
      "Simulink_FreeRTOS False\n",
      "slic3r_profiles False\n",
      "STM32F4-Discovery_FW_V1.1.0_Makefiles False\n",
      "TI-89 False\n",
      "uHIL False\n",
      "uHIL.FreeRTOS.STM32F4 True\n",
      "UMich_Controls_Tutorials_Python False\n",
      "usbrelay True\n",
      "VisualPlotClassification False\n",
      "windows_GitInstall False\n",
      "WinPythonToxJenkins False\n",
      "xbmc-terminal-keyboard False\n",
      "ZIL_Benchmark False\n",
      "mifiber.github.io True\n"
     ]
    }
   ],
   "source": [
    "# Then play with your Github objects:\n",
    "for repo in g.get_user().get_repos():\n",
    "    print(repo.name, repo.fork)\n",
    "    if not repo.fork:\n",
    "        update_license(repo)"
   ]
  },
  {
   "cell_type": "code",
   "execution_count": null,
   "metadata": {},
   "outputs": [],
   "source": [
    "repo."
   ]
  }
 ],
 "metadata": {
  "kernelspec": {
   "display_name": "Python 3",
   "language": "python",
   "name": "python3"
  },
  "language_info": {
   "codemirror_mode": {
    "name": "ipython",
    "version": 3
   },
   "file_extension": ".py",
   "mimetype": "text/x-python",
   "name": "python",
   "nbconvert_exporter": "python",
   "pygments_lexer": "ipython3",
   "version": "3.5.2"
  }
 },
 "nbformat": 4,
 "nbformat_minor": 2
}
